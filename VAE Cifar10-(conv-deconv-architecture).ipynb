{
 "cells": [
  {
   "cell_type": "code",
   "execution_count": 1,
   "id": "3ed1f339",
   "metadata": {},
   "outputs": [],
   "source": [
    "import torch\n",
    "import torch.nn as nn\n",
    "import torch.optim as optim\n",
    "import torch.nn.functional as F\n",
    "import torchvision\n",
    "import torchvision.transforms as transforms\n",
    "from torchvision.utils import save_image\n",
    "from torch.optim.lr_scheduler import StepLR, CosineAnnealingLR\n",
    "from torchvision.datasets import MNIST, FashionMNIST, CIFAR10, STL10\n",
    "import os\n",
    "import pickle\n",
    "import zipfile\n",
    "import datetime\n",
    "\n",
    "import matplotlib.pyplot as plt"
   ]
  },
  {
   "cell_type": "code",
   "execution_count": 2,
   "id": "daf2b7f4",
   "metadata": {},
   "outputs": [],
   "source": [
    "CUDA_LAUNCH_BLOCKING=1"
   ]
  },
  {
   "cell_type": "code",
   "execution_count": 3,
   "id": "88a0fd03",
   "metadata": {},
   "outputs": [],
   "source": [
    "batch_size = 64\n",
    "def load_data():\n",
    "    data_transform = transforms.Compose([transforms.ToTensor()])\n",
    "    train_data = CIFAR10(root=\"./data\", train=True, transform=data_transform, download=True)\n",
    "    test_data = CIFAR10(root=\"./data\", train=False, transform=data_transform, download=True)\n",
    "\n",
    "    train_loader = torch.utils.data.DataLoader(train_data, batch_size=batch_size, shuffle=True, num_workers=0)\n",
    "    test_loader = torch.utils.data.DataLoader(test_data, batch_size=batch_size, shuffle=True, num_workers=0)\n",
    "\n",
    "    return train_data, test_data, train_loader, test_loader"
   ]
  },
  {
   "cell_type": "code",
   "execution_count": 4,
   "id": "22c66a73",
   "metadata": {},
   "outputs": [],
   "source": [
    "class EncoderModule(nn.Module):\n",
    "    def __init__(self, input_channels, output_channels, stride, kernel, pad):\n",
    "        super().__init__()\n",
    "        self.conv = nn.Conv2d(input_channels, output_channels, kernel_size=kernel, padding=pad, stride=stride)\n",
    "        self.pool = nn.MaxPool2d(3, stride=2)\n",
    "        self.bn = nn.BatchNorm2d(output_channels)\n",
    "        self.relu = nn.ReLU(inplace=True)\n",
    "\n",
    "    def forward(self, x):\n",
    "        return self.relu(self.bn(self.conv(x)))"
   ]
  },
  {
   "cell_type": "code",
   "execution_count": 5,
   "id": "c637b932",
   "metadata": {},
   "outputs": [],
   "source": [
    "class Encoder(nn.Module):\n",
    "    def __init__(self, color_channels, pooling_kernels, n_neurons_in_middle_layer):\n",
    "        self.n_neurons_in_middle_layer = n_neurons_in_middle_layer\n",
    "        super().__init__()\n",
    "        self.bottle = EncoderModule(color_channels, 64, stride=2, kernel=7, pad=1)\n",
    "        self.m1 = EncoderModule(64, 128, stride=2, kernel=7, pad=1)\n",
    "        self.m2 = EncoderModule(128, 256, stride=2, kernel=5, pad=1)\n",
    "        self.dense1 = nn.Linear(1024, 100)\n",
    "#         self.m3 = EncoderModule(128, 256, stride=pooling_kernels[1], kernel=3, pad=1)\n",
    "#         self.m4 = EncoderModule(256, 512, stride=3, kernel=5, pad=1)\n",
    "#         self.m5 = EncoderModule(512, 1024, stride=1, kernel=3, pad=0)\n",
    "        \n",
    "\n",
    "    def forward(self, x):\n",
    "        out = self.bottle(x)\n",
    "#         print(out.shape)\n",
    "        \n",
    "        out = self.m1(out)\n",
    "#         print(out.shape)\n",
    "        \n",
    "        out = self.m2(out)\n",
    "        out = torch.flatten(out, start_dim=1)\n",
    "        out = self.dense1(out)\n",
    "#         print(out.shape)\n",
    "        \n",
    "#         out = self.m3(out)\n",
    "#         print(out.shape)\n",
    "        \n",
    "#         out = self.m4(out)\n",
    "#         print(out.shape)\n",
    "        \n",
    "#         out = self.m5(out)\n",
    "#         print('final', out.shape)\n",
    "        return out"
   ]
  },
  {
   "cell_type": "code",
   "execution_count": 6,
   "id": "f4788b67",
   "metadata": {},
   "outputs": [],
   "source": [
    "class DecoderModule(nn.Module):\n",
    "    def __init__(self, input_channels, output_channels, stride, kernel, pad, output_size=None, dilation=1, activation=\"relu\"):\n",
    "        super().__init__()\n",
    "        self.output_size = output_size \n",
    "        self.convt = nn.ConvTranspose2d(input_channels, output_channels, kernel_size=kernel, padding=pad, stride=stride, dilation=dilation)\n",
    "        self.bn = nn.BatchNorm2d(output_channels)\n",
    "        if activation == \"relu\":\n",
    "            self.activation = nn.ReLU(inplace=True)\n",
    "        elif activation == \"sigmoid\":\n",
    "            self.activation = nn.Sigmoid()\n",
    "\n",
    "    def forward(self, x):\n",
    "        x = self.convt(x)\n",
    "            \n",
    "        return self.activation(self.bn(x))"
   ]
  },
  {
   "cell_type": "code",
   "execution_count": 7,
   "id": "b5ed0420",
   "metadata": {},
   "outputs": [],
   "source": [
    "class ConvDecoderModule(nn.Module):\n",
    "    def __init__(self, input_channels, output_channels, stride, kernel, pad, output_size=None, activation=\"relu\"):\n",
    "        super().__init__()\n",
    "        self.output_size = output_size \n",
    "        self.conv = nn.Conv2d(in_channels=input_channels, out_channels=output_channels, kernel_size=(kernel,kernel),  stride=(stride,stride), padding=pad)\n",
    "        self.bn = nn.BatchNorm2d(output_channels)\n",
    "        if activation == \"relu\":\n",
    "            self.activation = nn.ReLU(inplace=True)\n",
    "        elif activation == \"sigmoid\":\n",
    "            self.activation = nn.Sigmoid()\n",
    "\n",
    "    def forward(self, x):\n",
    "        x = self.conv(x)\n",
    "            \n",
    "        return self.activation(self.bn(x))"
   ]
  },
  {
   "cell_type": "code",
   "execution_count": 8,
   "id": "6fff166b",
   "metadata": {},
   "outputs": [],
   "source": [
    "class Decoder(nn.Module):\n",
    "    def __init__(self, color_channels, pooling_kernels, decoder_input_size):\n",
    "        self.decoder_input_size = decoder_input_size\n",
    "        super().__init__()\n",
    "#         self.m00 = DecoderModule(1024, 512, stride=1, kernel=3, pad=0)\n",
    "#         self.m0 = DecoderModule(512, 256, stride=3, kernel=5, pad=1)\n",
    "        self.dense1 = nn.Linear(100, 100)\n",
    "        self.dense2 = nn.Linear(100, 1024)\n",
    "        self.dense3 = nn.Linear(1024, 4096)\n",
    "        self.m1 = DecoderModule(256, 256, stride=2, kernel=4, pad=1)\n",
    "        self.m2 = ConvDecoderModule(256, 256, stride=1, kernel=3, pad=0)\n",
    "        self.m3 = DecoderModule(256, 128, stride=1, kernel=5, pad=1, dilation=3)\n",
    "        self.m4 = ConvDecoderModule(128, 128, stride=1, kernel=3, pad=0)\n",
    "        self.m5 = DecoderModule(128, 64, stride=1, kernel=5, pad=1, dilation=5)\n",
    "        self.m6 = ConvDecoderModule(64, 64, stride=1, kernel=1, pad=0)\n",
    "        self.bottle = DecoderModule(64, color_channels, stride=1, kernel=3, pad=1, activation=\"sigmoid\")\n",
    "\n",
    "    def forward(self, x):\n",
    "#         print(out.shape)\n",
    "#         out = self.m00(out)\n",
    "#         print(out.shape)\n",
    "#         out = self.m0(out)\n",
    "#         print(out.shape)\n",
    "        \n",
    "        out = self.dense1(x)\n",
    "        out = self.dense2(out)\n",
    "        out = self.dense3(out)\n",
    "        out = out.view(-1, 256, self.decoder_input_size, self.decoder_input_size)\n",
    "        out = self.m1(out)\n",
    "        \n",
    "        out = self.m2(out)\n",
    "        \n",
    "        out = self.m3(out)\n",
    "        out = self.m4(out)\n",
    "        \n",
    "        out = self.m5(out)\n",
    "        out = self.m6(out)\n",
    "#         print(out.shape)\n",
    "        out = self.bottle(out)\n",
    "#         print(out.shape)\n",
    "        \n",
    "        return out"
   ]
  },
  {
   "cell_type": "code",
   "execution_count": 9,
   "id": "34a62f36",
   "metadata": {},
   "outputs": [
    {
     "name": "stdout",
     "output_type": "stream",
     "text": [
      "Files already downloaded and verified\n",
      "Files already downloaded and verified\n"
     ]
    }
   ],
   "source": [
    "#data\n",
    "train_data, test_daata, train_loader, test_loader = load_data()"
   ]
  },
  {
   "cell_type": "code",
   "execution_count": 10,
   "id": "d6ec1292",
   "metadata": {},
   "outputs": [],
   "source": [
    "class VAE(nn.Module):\n",
    "    def __init__(self):\n",
    "        self.device = 'cuda' if torch.cuda.is_available() else 'cpu'\n",
    "#         self.device ='cpu' \n",
    "\n",
    "        super().__init__()\n",
    "        \n",
    "        ## number of latent features \n",
    "        self.num_latent_features = 64\n",
    "\n",
    "        pooling_kernel = [2, 2]\n",
    "        encoder_output_size = 4\n",
    "        color_channels = 3\n",
    "\n",
    "        num_neurons_in_middle_layer = 100\n",
    "        #Encoder\n",
    "        self.encoder = Encoder(color_channels, pooling_kernel, num_neurons_in_middle_layer)\n",
    "        #Middle\n",
    "        self.fc1 = nn.Linear(num_neurons_in_middle_layer, self.num_latent_features)\n",
    "        self.fc2 = nn.Linear(num_neurons_in_middle_layer, self.num_latent_features)\n",
    "        self.fc3 = nn.Linear(self.num_latent_features, num_neurons_in_middle_layer)\n",
    "        #Decoder\n",
    "        self.decoder = Decoder(color_channels, pooling_kernel, encoder_output_size)\n",
    "\n",
    "        #loss history \n",
    "        self.history = {\"train_loss\": [], \"val_loss\": []}\n",
    "\n",
    "        if not os.path.exists('cifar'):\n",
    "            os.mkdir('cifar')\n",
    "\n",
    "    def _reparameterize(self, mu, logvar): \n",
    "        std = logvar.mul(0.5).exp_()\n",
    "        exp = torch.randn(*mu.size()).to(self.device)\n",
    "        z = mu + std * exp\n",
    "        return z\n",
    "      \n",
    "    def _bottleneck(self, h):\n",
    "        mu, logvar = self.fc1(h), self.fc2(h)\n",
    "        z = self._reparameterize(mu, logvar)\n",
    "        return z, mu, logvar\n",
    "\n",
    "    def forward(self, x):\n",
    "        #Encoder\n",
    "#         import ipdb; ipdb.set_trace()\n",
    "        \n",
    "        h = self.encoder(x)\n",
    "        #Bottleneck\n",
    "        z, mu, logvar = self._bottleneck(h)\n",
    "        #decoder\n",
    "        z = self.fc3(z)\n",
    "        d = self.decoder(z)\n",
    "        return d, mu, logvar \n",
    "\n",
    "    def loss_function(self, recon_x, x, mu, logvar):\n",
    "#         import ipdb; ipdb.set_trace()\n",
    "        bce = F.binary_cross_entropy(recon_x, x, size_average=False)\n",
    "        kld = - 0.5 * torch.sum(1 + logvar - mu.pow(2) - logvar.exp())\n",
    "\n",
    "        return bce + kld\n",
    "\n",
    "    def init_model(self):\n",
    "        self.optimizer = optim.Adam(self.parameters(), lr=1e-3)\n",
    "        self.scheduler = CosineAnnealingLR(self.optimizer, 50)\n",
    "\n",
    "        if self.device == \"cuda\":\n",
    "            self = self.cuda()\n",
    "            torch.backends.cudnn.benchmark = True\n",
    "        self.to(self.device)\n",
    "\n",
    "    # Train\n",
    "    def fit_train(self, epoch):\n",
    "        self.train()\n",
    "        print(f\"\\nEpoch: {epoch + 1: d} {datetime.datetime.now()}\")\n",
    "        train_loss = 0\n",
    "        samples_count = 0\n",
    "        for batch_idx, (inputs, _) in enumerate(train_loader):\n",
    "            inputs = inputs.to(self.device)\n",
    "            self.optimizer.zero_grad()\n",
    "            recon_batch, mu, logvar = self(inputs)\n",
    "\n",
    "            loss = self.loss_function(recon_batch, inputs, mu, logvar)\n",
    "            loss.backward()\n",
    "            self.optimizer.step()\n",
    "            self.scheduler.step()\n",
    "\n",
    "            train_loss += loss.item()\n",
    "            samples_count += inputs.size(0)\n",
    "\n",
    "            if batch_idx % 500 == 0:\n",
    "                print(f\"Train batch index: {batch_idx}, dataset size: {len(train_loader)}, Loss: {train_loss/samples_count:f}\")\n",
    "\n",
    "        self.history[\"train_loss\"].append(train_loss/samples_count)\n",
    "\n",
    "    def test(self, epoch):\n",
    "        self.eval()\n",
    "        val_loss = 0\n",
    "        samples_count = 0\n",
    "        with torch.no_grad():\n",
    "            for batch_idx, (inputs, _) in enumerate(test_loader): \n",
    "                inputs = inputs.to(self.device)\n",
    "                recon_batch, mu, logvar = self(inputs)\n",
    "                val_loss += self.loss_function(recon_batch, inputs, mu, logvar).item()\n",
    "                samples_count += inputs.size(0)\n",
    "\n",
    "        print(f\"Test batch index: {batch_idx}, dataset size: {len(test_loader)}, Val Loss: {val_loss/samples_count:f}\") \n",
    "        self.history[\"val_loss\"].append(val_loss/samples_count)"
   ]
  },
  {
   "cell_type": "code",
   "execution_count": 11,
   "id": "90a14b06",
   "metadata": {},
   "outputs": [],
   "source": [
    "net = VAE()"
   ]
  },
  {
   "cell_type": "code",
   "execution_count": 12,
   "id": "4d6290c5",
   "metadata": {},
   "outputs": [
    {
     "data": {
      "text/plain": [
       "VAE(\n",
       "  (encoder): Encoder(\n",
       "    (bottle): EncoderModule(\n",
       "      (conv): Conv2d(3, 64, kernel_size=(7, 7), stride=(2, 2), padding=(1, 1))\n",
       "      (pool): MaxPool2d(kernel_size=3, stride=2, padding=0, dilation=1, ceil_mode=False)\n",
       "      (bn): BatchNorm2d(64, eps=1e-05, momentum=0.1, affine=True, track_running_stats=True)\n",
       "      (relu): ReLU(inplace=True)\n",
       "    )\n",
       "    (m1): EncoderModule(\n",
       "      (conv): Conv2d(64, 128, kernel_size=(7, 7), stride=(2, 2), padding=(1, 1))\n",
       "      (pool): MaxPool2d(kernel_size=3, stride=2, padding=0, dilation=1, ceil_mode=False)\n",
       "      (bn): BatchNorm2d(128, eps=1e-05, momentum=0.1, affine=True, track_running_stats=True)\n",
       "      (relu): ReLU(inplace=True)\n",
       "    )\n",
       "    (m2): EncoderModule(\n",
       "      (conv): Conv2d(128, 256, kernel_size=(5, 5), stride=(2, 2), padding=(1, 1))\n",
       "      (pool): MaxPool2d(kernel_size=3, stride=2, padding=0, dilation=1, ceil_mode=False)\n",
       "      (bn): BatchNorm2d(256, eps=1e-05, momentum=0.1, affine=True, track_running_stats=True)\n",
       "      (relu): ReLU(inplace=True)\n",
       "    )\n",
       "    (dense1): Linear(in_features=1024, out_features=100, bias=True)\n",
       "  )\n",
       "  (fc1): Linear(in_features=100, out_features=64, bias=True)\n",
       "  (fc2): Linear(in_features=100, out_features=64, bias=True)\n",
       "  (fc3): Linear(in_features=64, out_features=100, bias=True)\n",
       "  (decoder): Decoder(\n",
       "    (dense1): Linear(in_features=100, out_features=100, bias=True)\n",
       "    (dense2): Linear(in_features=100, out_features=1024, bias=True)\n",
       "    (dense3): Linear(in_features=1024, out_features=4096, bias=True)\n",
       "    (m1): DecoderModule(\n",
       "      (convt): ConvTranspose2d(256, 256, kernel_size=(4, 4), stride=(2, 2), padding=(1, 1))\n",
       "      (bn): BatchNorm2d(256, eps=1e-05, momentum=0.1, affine=True, track_running_stats=True)\n",
       "      (activation): ReLU(inplace=True)\n",
       "    )\n",
       "    (m2): ConvDecoderModule(\n",
       "      (conv): Conv2d(256, 256, kernel_size=(3, 3), stride=(1, 1))\n",
       "      (bn): BatchNorm2d(256, eps=1e-05, momentum=0.1, affine=True, track_running_stats=True)\n",
       "      (activation): ReLU(inplace=True)\n",
       "    )\n",
       "    (m3): DecoderModule(\n",
       "      (convt): ConvTranspose2d(256, 128, kernel_size=(5, 5), stride=(1, 1), padding=(1, 1), dilation=(3, 3))\n",
       "      (bn): BatchNorm2d(128, eps=1e-05, momentum=0.1, affine=True, track_running_stats=True)\n",
       "      (activation): ReLU(inplace=True)\n",
       "    )\n",
       "    (m4): ConvDecoderModule(\n",
       "      (conv): Conv2d(128, 128, kernel_size=(3, 3), stride=(1, 1))\n",
       "      (bn): BatchNorm2d(128, eps=1e-05, momentum=0.1, affine=True, track_running_stats=True)\n",
       "      (activation): ReLU(inplace=True)\n",
       "    )\n",
       "    (m5): DecoderModule(\n",
       "      (convt): ConvTranspose2d(128, 64, kernel_size=(5, 5), stride=(1, 1), padding=(1, 1), dilation=(5, 5))\n",
       "      (bn): BatchNorm2d(64, eps=1e-05, momentum=0.1, affine=True, track_running_stats=True)\n",
       "      (activation): ReLU(inplace=True)\n",
       "    )\n",
       "    (m6): ConvDecoderModule(\n",
       "      (conv): Conv2d(64, 64, kernel_size=(1, 1), stride=(1, 1))\n",
       "      (bn): BatchNorm2d(64, eps=1e-05, momentum=0.1, affine=True, track_running_stats=True)\n",
       "      (activation): ReLU(inplace=True)\n",
       "    )\n",
       "    (bottle): DecoderModule(\n",
       "      (convt): ConvTranspose2d(64, 3, kernel_size=(3, 3), stride=(1, 1), padding=(1, 1))\n",
       "      (bn): BatchNorm2d(3, eps=1e-05, momentum=0.1, affine=True, track_running_stats=True)\n",
       "      (activation): Sigmoid()\n",
       "    )\n",
       "  )\n",
       ")"
      ]
     },
     "execution_count": 12,
     "metadata": {},
     "output_type": "execute_result"
    }
   ],
   "source": [
    "net"
   ]
  },
  {
   "cell_type": "code",
   "execution_count": 13,
   "id": "8ee8b4e6",
   "metadata": {},
   "outputs": [],
   "source": [
    "net.init_model()"
   ]
  },
  {
   "cell_type": "code",
   "execution_count": 1,
   "id": "ab396bbd",
   "metadata": {},
   "outputs": [],
   "source": [
    "for i in range(50):\n",
    "    net.fit_train(i)\n",
    "    net.test(i)"
   ]
  },
  {
   "cell_type": "code",
   "execution_count": 26,
   "id": "cdd18d95",
   "metadata": {},
   "outputs": [
    {
     "data": {
      "text/plain": [
       "[<matplotlib.lines.Line2D at 0x7fa39452be20>]"
      ]
     },
     "execution_count": 26,
     "metadata": {},
     "output_type": "execute_result"
    },
    {
     "data": {
      "image/png": "[encoded data removed]",
      "text/plain": [
       "<Figure size 1800x1800 with 1 Axes>"
      ]
     },
     "metadata": {
      "needs_background": "light"
     },
     "output_type": "display_data"
    }
   ],
   "source": [
    "plt.figure(figsize=(25,25))\n",
    "plt.plot(net.history[\"train_loss\"])\n",
    "plt.plot(net.history[\"val_loss\"])"
   ]
  },
  {
   "cell_type": "code",
   "execution_count": 22,
   "id": "26e78e8d",
   "metadata": {},
   "outputs": [],
   "source": [
    "def visualize_reconstructions(model, input_imgs):\n",
    "    # Reconstruct images\n",
    "    model.eval()\n",
    "    with torch.no_grad():\n",
    "        reconst_imgs, mean, var = model(input_imgs.to(model.device))\n",
    "    reconst_imgs = reconst_imgs.cpu()\n",
    "\n",
    "    # Plotting\n",
    "    imgs = torch.stack([input_imgs, reconst_imgs], dim=1).flatten(0,1)\n",
    "    grid = torchvision.utils.make_grid(imgs, nrow=8, normalize=True, range=(-1,1))\n",
    "    grid = grid.permute(1, 2, 0)\n",
    "    plt.figure(figsize=(20,20))\n",
    "    plt.title(f\"Actual image Vs Reconstructed image\")\n",
    "    plt.imshow(grid)\n",
    "    plt.axis('off')\n",
    "    plt.show()"
   ]
  },
  {
   "cell_type": "code",
   "execution_count": 23,
   "id": "6477ba68",
   "metadata": {},
   "outputs": [],
   "source": [
    "def get_train_images(num):\n",
    "    return torch.stack([train_data[i][0] for i in range(num)], dim=0)"
   ]
  },
  {
   "cell_type": "code",
   "execution_count": 24,
   "id": "6343050e",
   "metadata": {},
   "outputs": [],
   "source": [
    "input_imgs = get_train_images(32)"
   ]
  },
  {
   "cell_type": "code",
   "execution_count": 2,
   "id": "551d0461",
   "metadata": {},
   "outputs": [],
   "source": [
    "visualize_reconstructions(net, input_imgs)"
   ]
  },
  {
   "cell_type": "code",
   "execution_count": null,
   "id": "82bdc9d8",
   "metadata": {},
   "outputs": [],
   "source": []
  },
  {
   "cell_type": "code",
   "execution_count": null,
   "id": "f1705f1c",
   "metadata": {},
   "outputs": [],
   "source": []
  }
 ],
 "metadata": {
  "kernelspec": {
   "display_name": "Python 3 (ipykernel)",
   "language": "python",
   "name": "python3"
  },
  "language_info": {
   "codemirror_mode": {
    "name": "ipython",
    "version": 3
   },
   "file_extension": ".py",
   "mimetype": "text/x-python",
   "name": "python",
   "nbconvert_exporter": "python",
   "pygments_lexer": "ipython3",
   "version": "3.8.10"
  }
 },
 "nbformat": 4,
 "nbformat_minor": 5
}
